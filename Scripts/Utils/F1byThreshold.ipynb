{
 "cells": [
  {
   "cell_type": "code",
   "execution_count": 34,
   "metadata": {},
   "outputs": [],
   "source": [
    "from sklearn.metrics import precision_recall_fscore_support, f1_score\n",
    "from scipy.special import softmax\n",
    "import numpy as np\n",
    "import seaborn as sns\n",
    "import pandas as pd\n"
   ]
  },
  {
   "cell_type": "code",
   "execution_count": 14,
   "metadata": {},
   "outputs": [
    {
     "data": {
      "text/plain": [
       "array([[0.73105376, 0.26894624],\n",
       "       [0.73105366, 0.26894634],\n",
       "       [0.52497524, 0.47502476],\n",
       "       [0.73082152, 0.26917848],\n",
       "       [0.73103204, 0.26896796],\n",
       "       [0.50249965, 0.49750035],\n",
       "       [0.49937442, 0.50062558],\n",
       "       [0.70579853, 0.29420147],\n",
       "       [0.73077759, 0.26922241],\n",
       "       [0.50024649, 0.49975351]])"
      ]
     },
     "execution_count": 14,
     "metadata": {},
     "output_type": "execute_result"
    }
   ],
   "source": [
    "y_logits = np.array([[9.99987721e-01, 1.22325773e-05],\n",
    "       [9.99987483e-01, 1.25022088e-05],\n",
    "       [9.99985576e-02, 1.43847392e-05],\n",
    "       [9.99988079e-01, 1.19345677e-03],\n",
    "       [9.99987721e-01, 1.22700221e-04],\n",
    "       [9.99987960e-03, 1.20601935e-06],\n",
    "       [9.99987483e-03, 1.25022088e-02],\n",
    "       [9.99987483e-01, 1.24922444e-01],\n",
    "       [9.99985814e-01, 1.41448563e-03],\n",
    "       [9.99985933e-04, 1.40302045e-05]])\n",
    "y_probs = softmax(y_logits, axis=1)\n",
    "y_true = np.array([0, 1, 0, 0, 1, 1, 0, 1, 0, 0])\n",
    "y_probs"
   ]
  },
  {
   "cell_type": "code",
   "execution_count": 24,
   "metadata": {},
   "outputs": [
    {
     "data": {
      "text/plain": [
       "array([0, 0, 0, 0, 0, 0, 1, 0, 0, 0])"
      ]
     },
     "execution_count": 24,
     "metadata": {},
     "output_type": "execute_result"
    }
   ],
   "source": [
    "def assign_label(y_probs:np.array, cutoff:float):\n",
    "    return np.where(y_probs[:,1] > cutoff, 1, 0)\n",
    "cutoff = .5\n",
    "assign_label(y_probs, cutoff)"
   ]
  },
  {
   "cell_type": "code",
   "execution_count": 35,
   "metadata": {},
   "outputs": [],
   "source": [
    "f1_list = []\n",
    "cutoff_list = []\n",
    "for cutoff in np.arange(0.005,1,0.005):\n",
    "    y_pred = assign_label(y_probs, cutoff)\n",
    "    f1_list.append(f1_score(y_pred=y_pred, y_true=y_true))\n",
    "    cutoff_list.append(cutoff)\n",
    "df = pd.DataFrame.from_dict({'f1':f1_list, 'cutoff':cutoff_list})\n",
    "f1 = np.array(f1_list)\n",
    "cutoff = np.array(cutoff_list)"
   ]
  },
  {
   "cell_type": "code",
   "execution_count": 38,
   "metadata": {},
   "outputs": [
    {
     "name": "stdout",
     "output_type": "stream",
     "text": [
      "\n"
     ]
    },
    {
     "data": {
      "image/png": "[encoded data removed]",
      "text/plain": [
       "<Figure size 640x480 with 1 Axes>"
      ]
     },
     "metadata": {},
     "output_type": "display_data"
    }
   ],
   "source": [
    "sns.lineplot(data=df, x=\"cutoff\", y=\"f1\")\n",
    "print()"
   ]
  },
  {
   "cell_type": "code",
   "execution_count": 40,
   "metadata": {},
   "outputs": [
    {
     "data": {
      "text/plain": [
       "(0.21558187764217915, 0.5714285714285715)"
      ]
     },
     "execution_count": 40,
     "metadata": {},
     "output_type": "execute_result"
    }
   ],
   "source": [
    "np.mean(f1), np.max(f1)"
   ]
  },
  {
   "cell_type": "code",
   "execution_count": 2,
   "metadata": {},
   "outputs": [
    {
     "name": "stdout",
     "output_type": "stream",
     "text": [
      "{\n",
      "    \"Name\": \"John\",\n",
      "    \"Age\": \"23\",\n",
      "    \"Country\": \"USA\"\n",
      "}\n"
     ]
    }
   ],
   "source": [
    "import json\n",
    "dct_arr = {'Name': 'John', 'Age': '23', 'Country': 'USA'}\n",
    "print(json.dumps(dct_arr, sort_keys=False, indent=4))"
   ]
  },
  {
   "cell_type": "code",
   "execution_count": null,
   "metadata": {},
   "outputs": [],
   "source": []
  }
 ],
 "metadata": {
  "kernelspec": {
   "display_name": "Python 3.10.6 ('venv': venv)",
   "language": "python",
   "name": "python3"
  },
  "language_info": {
   "codemirror_mode": {
    "name": "ipython",
    "version": 3
   },
   "file_extension": ".py",
   "mimetype": "text/x-python",
   "name": "python",
   "nbconvert_exporter": "python",
   "pygments_lexer": "ipython3",
   "version": "3.10.6"
  },
  "orig_nbformat": 4,
  "vscode": {
   "interpreter": {
    "hash": "2f4c66031bd03a7ff2dbcb8a6f0b1d029341b3cbf0874c30b1b84468fb0fc3d6"
   }
  }
 },
 "nbformat": 4,
 "nbformat_minor": 2
}
